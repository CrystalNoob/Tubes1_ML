{
 "cells": [
  {
   "cell_type": "code",
   "execution_count": 2,
   "metadata": {},
   "outputs": [],
   "source": [
    "import numpy as np"
   ]
  },
  {
   "cell_type": "code",
   "execution_count": 3,
   "metadata": {},
   "outputs": [],
   "source": [
    "class Value:\n",
    "    def __init__(self,value,_children=(),_op=''):\n",
    "        self.value = value;\n",
    "        self._prev = set(_children);\n",
    "        self._op = _op;\n",
    "        self.grad = 0.0;\n",
    "\n",
    "    def __repr__(self):\n",
    "        stringVal = f\"{self.value}\";\n",
    "        return stringVal\n",
    "\n",
    "    def __add__(self,other):\n",
    "        return Value(self.value + other.value,(self,other),'+');\n",
    "\n",
    "    def __sub__(self,other):\n",
    "        return Value(self.value - other.value,(self,other),'-');\n",
    "\n",
    "    def __mul__(self,other):\n",
    "        return Value(self.value * other.value,(self,other),'*');\n",
    "\n",
    "    def __div__(self,other):\n",
    "        return Value(self.value / other.value,(self,other),'/');\n",
    "\n",
    "    #TODO: Fungsi dan autograd\n",
    "\n"
   ]
  },
  {
   "cell_type": "code",
   "execution_count": 6,
   "metadata": {},
   "outputs": [
    {
     "name": "stdout",
     "output_type": "stream",
     "text": [
      "Input\n",
      "[1 4 4]\n",
      "Hidden Layer\n",
      "[array([15, 17]), array([83, 79, 66]), array([631, 780, 592, 307])]\n",
      "Output\n",
      "[4050 6070]\n",
      "Weight\n",
      "[array([[3, 1],\n",
      "       [2, 1],\n",
      "       [1, 3]]), array([[1, 3, 1],\n",
      "       [4, 2, 3]]), array([[3, 4, 3, 1],\n",
      "       [4, 4, 1, 2],\n",
      "       [1, 2, 4, 1]]), array([[2, 4],\n",
      "       [2, 3],\n",
      "       [0, 1],\n",
      "       [4, 2]])]\n",
      "######\n",
      " [[ 3  8  4]\n",
      " [ 1  4 12]]\n",
      "[15 17]\n"
     ]
    }
   ],
   "source": [
    "n_input_neuron = 3 # jumlah neuron input \n",
    "n_input_instance = 1 # jumlah instance input\n",
    "n_hidden_layer = 3  # jumlah layer\n",
    "n_output_neuron = 2\n",
    "n_weight_layers = n_hidden_layer + 1\n",
    "\n",
    "\n",
    "input_layer_neuron = np.random.randint(5,size=(n_input_instance,n_input_neuron))\n",
    "output_layer_neuron = np.zeros(n_output_neuron)\n",
    "hidden_layer_neuron = [0 for i in range(n_hidden_layer)]\n",
    "weight_layer_neuron = [0 for i in range(n_weight_layers)]\n",
    "\n",
    "for i in range(n_hidden_layer):\n",
    "    hidden_layer_neuron[i] = np.zeros(int(input()))\n",
    "\n",
    "for i in range(n_weight_layers):\n",
    "    if i==0:\n",
    "        weight_layer_neuron[i] = np.random.randint(5,size=(n_input_neuron,len(hidden_layer_neuron[i])))\n",
    "    elif i==n_weight_layers-1:\n",
    "        weight_layer_neuron[i] = np.random.randint(5,size=(len(hidden_layer_neuron[i-1]),n_output_neuron))\n",
    "    else:\n",
    "        weight_layer_neuron[i] = np.random.randint(5,size=(len(hidden_layer_neuron[i-1]),len(hidden_layer_neuron[i])))\n",
    "\n",
    "for i in range(n_weight_layers):\n",
    "    if i==0:\n",
    "        hidden_layer_neuron[i] = np.sum(input_layer_neuron[0]*weight_layer_neuron[i].T,axis=1) \n",
    "    elif i==n_weight_layers-1:\n",
    "        output_layer_neuron = np.sum(hidden_layer_neuron[i-1]*weight_layer_neuron[i].T,axis=1)\n",
    "    else:\n",
    "        hidden_layer_neuron[i] = np.sum(hidden_layer_neuron[i-1]*weight_layer_neuron[i].T,axis=1)\n",
    "\n",
    "print(\"Input\")\n",
    "print(input_layer_neuron[0])\n",
    "print(\"Hidden Layer\")\n",
    "print(hidden_layer_neuron)\n",
    "print(\"Output\")\n",
    "print(output_layer_neuron)\n",
    "print(\"Weight\")\n",
    "print(weight_layer_neuron)\n",
    "\n",
    "axe = (input_layer_neuron[0]*weight_layer_neuron[0].T)\n",
    "print(\"######\\n\",axe)\n",
    "print(np.sum(axe,axis=1))"
   ]
  },
  {
   "cell_type": "code",
   "execution_count": null,
   "metadata": {},
   "outputs": [],
   "source": []
  }
 ],
 "metadata": {
  "kernelspec": {
   "display_name": "3.13.2",
   "language": "python",
   "name": "python3"
  },
  "language_info": {
   "codemirror_mode": {
    "name": "ipython",
    "version": 3
   },
   "file_extension": ".py",
   "mimetype": "text/x-python",
   "name": "python",
   "nbconvert_exporter": "python",
   "pygments_lexer": "ipython3",
   "version": "3.13.2"
  }
 },
 "nbformat": 4,
 "nbformat_minor": 2
}
